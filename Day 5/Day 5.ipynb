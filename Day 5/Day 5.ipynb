{
 "cells": [
  {
   "cell_type": "code",
   "execution_count": 17,
   "metadata": {},
   "outputs": [
    {
     "name": "stdout",
     "output_type": "stream",
     "text": [
      "850\n",
      "599\n"
     ]
    }
   ],
   "source": [
    "import math\n",
    "\n",
    "def getrow(position):\n",
    "    front = 0\n",
    "    back = 127\n",
    "    for pos in position:\n",
    "        if pos==\"F\":\n",
    "            back = math.floor(front+(back-front)/2)\n",
    "        elif pos==\"B\":\n",
    "            front = math.ceil(front+(back-front)/2)\n",
    "        else:\n",
    "            print(\"ROW POSITION SOMETHING WRONG\")\n",
    "    \n",
    "    if front==back:\n",
    "        return front\n",
    "    else:\n",
    "        print(\"GETROW ALGO WRONG\")\n",
    "        return\n",
    "\n",
    "def getcol(position):\n",
    "    left = 0\n",
    "    right = 7\n",
    "    for pos in position:\n",
    "        if pos==\"L\":\n",
    "            right = math.floor(left+(right-left)/2)\n",
    "        elif pos==\"R\":\n",
    "            left = math.ceil(left+(right-left)/2)\n",
    "        else:\n",
    "            print(\"COLUMN POSITION SOMETHING WRONG\")\n",
    "    \n",
    "    if left==right:\n",
    "        return left\n",
    "    else:\n",
    "        print(\"GETCOL ALGO WRONG\")\n",
    "        return\n",
    "    \n",
    "    \n",
    "    \n",
    "with open('input.txt') as f:\n",
    "    highestID = 0\n",
    "    occupiedIDs = []\n",
    "    for cnt, line in enumerate(f):\n",
    "        position = line.strip()\n",
    "        row = getrow(position[:7])\n",
    "        col = getcol(position[-3:])\n",
    "        \n",
    "        seatID = row*8+col\n",
    "        if highestID < seatID:\n",
    "            highestID = seatID\n",
    "\n",
    "        occupiedIDs.append(seatID)\n",
    "        \n",
    "    # Answer for Part 1\n",
    "    print(highestID)\n",
    "    \n",
    "    \n",
    "    # Part 2 start\n",
    "    emptyIDs = []\n",
    "    \n",
    "    for id in range(highestID):\n",
    "        if id not in occupiedIDs:\n",
    "            emptyIDs.append(id)\n",
    "    \n",
    "    for id in emptyIDs:\n",
    "        if id+1 in emptyIDs or id-1 in emptyIDs:\n",
    "            continue\n",
    "        else:\n",
    "            # Answer for Part 2\n",
    "            print(id)    "
   ]
  },
  {
   "cell_type": "code",
   "execution_count": null,
   "metadata": {
    "collapsed": true
   },
   "outputs": [],
   "source": []
  }
 ],
 "metadata": {
  "kernelspec": {
   "display_name": "Python 3",
   "language": "python",
   "name": "python3"
  },
  "language_info": {
   "codemirror_mode": {
    "name": "ipython",
    "version": 3
   },
   "file_extension": ".py",
   "mimetype": "text/x-python",
   "name": "python",
   "nbconvert_exporter": "python",
   "pygments_lexer": "ipython3",
   "version": "3.6.1"
  }
 },
 "nbformat": 4,
 "nbformat_minor": 2
}
