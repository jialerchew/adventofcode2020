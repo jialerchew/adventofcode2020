{
 "cells": [
  {
   "cell_type": "code",
   "execution_count": 1,
   "metadata": {},
   "outputs": [
    {
     "name": "stdout",
     "output_type": "stream",
     "text": [
      "272\n"
     ]
    }
   ],
   "source": [
    "with open('input.txt') as f:\n",
    "    \n",
    "    lines = f.readlines()\n",
    "    lines = [l.strip() for l in lines]\n",
    "\n",
    "    bags = {}\n",
    "    \n",
    "    for l in lines:\n",
    "        splitted = l.split(\" contain \")\n",
    "        bags[splitted[0][:-5]] = [x[2:-4].strip() for x in splitted[1][:-1].split(\", \")]\n",
    "    \n",
    "    next_check = []\n",
    "    colors_to_check = [\"shiny gold\"]\n",
    "    can_hold_shinygold = []\n",
    "    updated = True\n",
    "    \n",
    "    while updated:\n",
    "        for colorcheck in colors_to_check:\n",
    "            for bag, contents in bags.items():\n",
    "                if colorcheck in contents:\n",
    "                    if bag not in can_hold_shinygold:\n",
    "                        next_check.append(bag)\n",
    "                        can_hold_shinygold.append(bag)\n",
    "                    \n",
    "        if next_check == []:\n",
    "            updated = False\n",
    "        else:\n",
    "            updated = True\n",
    "        \n",
    "        colors_to_check = next_check\n",
    "        next_check = []\n",
    "    \n",
    "    print(len(can_hold_shinygold))"
   ]
  },
  {
   "cell_type": "code",
   "execution_count": 2,
   "metadata": {},
   "outputs": [
    {
     "name": "stdout",
     "output_type": "stream",
     "text": [
      "172246\n"
     ]
    }
   ],
   "source": [
    "import re\n",
    "\n",
    "total = 0\n",
    "\n",
    "def getbagcount(color,count,bags):\n",
    "    global total\n",
    "    if color in bags:\n",
    "        for c, cnt in bags[color].items():\n",
    "            total+=count*cnt\n",
    "            getbagcount(c,count*cnt,bags)\n",
    "        \n",
    "    return total\n",
    "\n",
    "\n",
    "    \n",
    "with open('input.txt') as f:\n",
    "    \n",
    "    lines = f.readlines()\n",
    "    lines = [l.strip() for l in lines]\n",
    "\n",
    "    bags = {}\n",
    "    \n",
    "    for l in lines:\n",
    "        splitted = l.split(\" contain \")\n",
    "        d = {}\n",
    "        for x in splitted[1][:-1].split(\", \"):\n",
    "            num = re.findall(\"^(\\d)\\s\",x)\n",
    "            if num:\n",
    "                d[x[2:-4].strip()] = int(num[0])\n",
    "                bags[splitted[0][:-5]] = d\n",
    "    \n",
    "    print(getbagcount(\"shiny gold\",1,bags))\n"
   ]
  },
  {
   "cell_type": "code",
   "execution_count": null,
   "metadata": {
    "collapsed": true
   },
   "outputs": [],
   "source": []
  }
 ],
 "metadata": {
  "kernelspec": {
   "display_name": "Python 3",
   "language": "python",
   "name": "python3"
  },
  "language_info": {
   "codemirror_mode": {
    "name": "ipython",
    "version": 3
   },
   "file_extension": ".py",
   "mimetype": "text/x-python",
   "name": "python",
   "nbconvert_exporter": "python",
   "pygments_lexer": "ipython3",
   "version": "3.6.1"
  }
 },
 "nbformat": 4,
 "nbformat_minor": 2
}
