{
 "cells": [
  {
   "cell_type": "code",
   "execution_count": 1,
   "metadata": {},
   "outputs": [
    {
     "name": "stdout",
     "output_type": "stream",
     "text": [
      "6565\n",
      "3137\n"
     ]
    }
   ],
   "source": [
    "with open('input.txt') as f:\n",
    "    \n",
    "    test = \"\"\n",
    "    group_answers = []\n",
    "    union_sum = 0\n",
    "    distinct_sum = 0\n",
    "    for cnt, line in enumerate(f):\n",
    "        if line == \"\\n\":\n",
    "            union_sum+=len(group_answers[0].union(*group_answers[1:]))\n",
    "            distinct_sum+=len(group_answers[0].intersection(*group_answers[1:]))\n",
    "            group_answers = []\n",
    "        else:\n",
    "            test = line.strip()\n",
    "            group_answers.append(set(line.strip()))\n",
    "            \n",
    "    # Run 1 more time after last line\n",
    "    union_sum+=len(group_answers[0].union(*group_answers[1:]))\n",
    "    distinct_sum+=len(group_answers[0].intersection(*group_answers[1:]))\n",
    "    \n",
    "    print(union_sum)\n",
    "    print(distinct_sum)"
   ]
  },
  {
   "cell_type": "code",
   "execution_count": null,
   "metadata": {
    "collapsed": true
   },
   "outputs": [],
   "source": []
  }
 ],
 "metadata": {
  "kernelspec": {
   "display_name": "Python 3",
   "language": "python",
   "name": "python3"
  },
  "language_info": {
   "codemirror_mode": {
    "name": "ipython",
    "version": 3
   },
   "file_extension": ".py",
   "mimetype": "text/x-python",
   "name": "python",
   "nbconvert_exporter": "python",
   "pygments_lexer": "ipython3",
   "version": "3.6.1"
  }
 },
 "nbformat": 4,
 "nbformat_minor": 2
}
