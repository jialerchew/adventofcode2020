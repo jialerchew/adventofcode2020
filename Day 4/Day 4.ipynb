{
 "cells": [
  {
   "cell_type": "code",
   "execution_count": 68,
   "metadata": {},
   "outputs": [
    {
     "name": "stdout",
     "output_type": "stream",
     "text": [
      "239\n"
     ]
    }
   ],
   "source": [
    "with open('input.txt') as f:\n",
    "\n",
    "    fields = []\n",
    "    count = 0\n",
    "    required = ['byr','iyr','eyr','hgt','hcl','ecl','pid']\n",
    "    \n",
    "    for cnt, line in enumerate(f): \n",
    "#         print(\"Line {}: {}\".format(cnt, line))\n",
    "        data = line.strip().split(\" \")\n",
    "        for d in data:\n",
    "            if d == \"\":\n",
    "                if all(item in fields for item in required):\n",
    "                    count+=1\n",
    "                fields = []\n",
    "            else:\n",
    "                fields.append(d.split(\":\")[0])\n",
    "                \n",
    "#     Do last time after last row            \n",
    "    if all(item in fields for item in required):\n",
    "        count+=1\n",
    "        \n",
    "print(count)"
   ]
  },
  {
   "cell_type": "code",
   "execution_count": 69,
   "metadata": {},
   "outputs": [
    {
     "name": "stdout",
     "output_type": "stream",
     "text": [
      "188\n"
     ]
    }
   ],
   "source": [
    "import re\n",
    "with open('input.txt') as f:\n",
    "\n",
    "    fields = []\n",
    "    values = []\n",
    "    count = 0\n",
    "    required = ['byr','iyr','eyr','hgt','hcl','ecl','pid']\n",
    "    \n",
    "    for cnt, line in enumerate(f): \n",
    "#         print(\"Line {}: {}\".format(cnt, line))\n",
    "        data = line.strip().split(\" \")\n",
    "        for d in data:\n",
    "            if d == \"\":\n",
    "                if all(item in fields for item in required):\n",
    "                    v1 = values[fields.index(\"byr\")]\n",
    "                    c1 = len(v1)==4 and int(v1)>=1920 and int(v1)<=2002\n",
    "                    \n",
    "                    v2 = values[fields.index(\"iyr\")]\n",
    "                    c2 = len(v2)==4 and int(v2)>=2010 and int(v2)<=2020\n",
    "                    \n",
    "                    v3 = values[fields.index(\"eyr\")]\n",
    "                    c3 = len(v3)==4 and int(v3)>=2020 and int(v3)<=2030\n",
    "                    \n",
    "                    v4 = values[fields.index(\"hgt\")]\n",
    "                    if v4[-2:] == \"cm\":\n",
    "                        c4 = int(v4[:-2])>=150 and int(v4[:-2])<=193\n",
    "                    elif v4[-2:] == \"in\":\n",
    "                        c4 = int(v4[:-2])>=59 and int(v4[:-2])<=76\n",
    "                    else:\n",
    "                        c4 = False\n",
    "                    \n",
    "                    v5 = values[fields.index(\"hcl\")]\n",
    "#                     if re.match(r'#[0-9a-f]{6}$',v5) == None:\n",
    "#                         c5 = False\n",
    "#                     else:\n",
    "#                         c5 = True\n",
    "                    c5 = re.match(r'#[0-9a-f]{6}$',v5)\n",
    "                    \n",
    "                    v6 = values[fields.index(\"ecl\")]\n",
    "                    c6 = v6 in [\"amb\", \"blu\", \"brn\", \"gry\", \"grn\", \"hzl\", \"oth\"]\n",
    "                    \n",
    "                    v7 = values[fields.index(\"pid\")]\n",
    "                    c7 = len(v7)==9 and v7.isnumeric()\n",
    "\n",
    "                    if all([c1,c2,c3,c4,c5,c6,c7]):\n",
    "                        count+=1                    \n",
    "                    \n",
    "                fields = []\n",
    "                values = []\n",
    "            else:\n",
    "                split = d.split(\":\")\n",
    "                fields.append(split[0])\n",
    "                values.append(split[1])\n",
    "                \n",
    "#     Do last time after last row            \n",
    "    if all(item in fields for item in required):\n",
    "        v1 = values[fields.index(\"byr\")]\n",
    "        c1 = len(v1)==4 and int(v1)>=1920 and int(v1)<=2002\n",
    "                    \n",
    "        v2 = values[fields.index(\"iyr\")]\n",
    "        c2 = len(v2)==4 and int(v2)>=2010 and int(v2)<=2020\n",
    "                    \n",
    "        v3 = values[fields.index(\"eyr\")]\n",
    "        c3 = len(v3)==4 and int(v3)>=2020 and int(v3)<=2030\n",
    "                    \n",
    "        v4 = values[fields.index(\"hgt\")]\n",
    "        if v4[-2:] == \"cm\":\n",
    "            c4 = int(v4[:-2])>=150 and int(v4[:-2])<=193\n",
    "        elif v4[-2:] == \"in\":\n",
    "            c4 = int(v4[:-2])>=59 and int(v4[:-2])<=76\n",
    "        else:\n",
    "            c4 = False\n",
    "                    \n",
    "        v5 = values[fields.index(\"hcl\")]\n",
    "#         if re.match(r'#[0-9a-f]{6}$',v5) == None:\n",
    "#             c5 = False\n",
    "#         else:\n",
    "#             c5 = True\n",
    "        c5 = re.match(r'#[0-9a-f]{6}$',v5)\n",
    "                    \n",
    "        v6 = values[fields.index(\"ecl\")]\n",
    "        c6 = v6 in [\"amb\", \"blu\", \"brn\", \"gry\", \"grn\", \"hzl\", \"oth\"]\n",
    "                    \n",
    "        v7 = values[fields.index(\"pid\")]\n",
    "        c7 = len(v7)==9 and v7.isnumeric()\n",
    "\n",
    "        if all([c1,c2,c3,c4,c5,c6,c7]):\n",
    "            count+=1\n",
    "        \n",
    "print(count)"
   ]
  },
  {
   "cell_type": "code",
   "execution_count": null,
   "metadata": {
    "collapsed": true
   },
   "outputs": [],
   "source": []
  }
 ],
 "metadata": {
  "kernelspec": {
   "display_name": "Python 3",
   "language": "python",
   "name": "python3"
  },
  "language_info": {
   "codemirror_mode": {
    "name": "ipython",
    "version": 3
   },
   "file_extension": ".py",
   "mimetype": "text/x-python",
   "name": "python",
   "nbconvert_exporter": "python",
   "pygments_lexer": "ipython3",
   "version": "3.6.1"
  }
 },
 "nbformat": 4,
 "nbformat_minor": 2
}
