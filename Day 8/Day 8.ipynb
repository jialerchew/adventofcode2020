{
 "cells": [
  {
   "cell_type": "code",
   "execution_count": 1,
   "metadata": {},
   "outputs": [
    {
     "name": "stdout",
     "output_type": "stream",
     "text": [
      "1671\n"
     ]
    }
   ],
   "source": [
    "with open('input.txt') as f:\n",
    "    \n",
    "    lines = f.readlines()\n",
    "    lines = [l.strip() for l in lines]\n",
    "    \n",
    "    acc = 0\n",
    "    executed_index = []\n",
    "    \n",
    "    i = 0\n",
    "    while i < len(lines):\n",
    "\n",
    "        if i in executed_index:\n",
    "            print(acc)\n",
    "            break\n",
    "        executed_index.append(i)\n",
    "        ops = lines[i][:3]\n",
    "        if ops==\"acc\":\n",
    "            acc+=int(lines[i].split(\" \")[1])\n",
    "            i+=1\n",
    "        elif ops==\"jmp\":\n",
    "            i+=int(lines[i].split(\" \")[1])\n",
    "        else:\n",
    "            i+=1"
   ]
  },
  {
   "cell_type": "code",
   "execution_count": 2,
   "metadata": {},
   "outputs": [
    {
     "name": "stdout",
     "output_type": "stream",
     "text": [
      "892\n"
     ]
    }
   ],
   "source": [
    "def changeline(x):\n",
    "    if x[:3]==\"jmp\":\n",
    "        return \"nop\"+x[3:]\n",
    "    else:\n",
    "        return \"jmp\"+x[3:]\n",
    "\n",
    "with open('input.txt') as f:\n",
    "    \n",
    "    lines = f.readlines()\n",
    "    lines = [l.strip() for l in lines]\n",
    "    \n",
    "    nopjmp_indexes = []\n",
    "    for i in range(len(lines)):\n",
    "        if lines[i][:3]==\"nop\" or lines[i][:3]==\"jmp\":\n",
    "            nopjmp_indexes.append(i)\n",
    "                \n",
    "    \n",
    "    for idx in nopjmp_indexes:\n",
    "        acc = 0\n",
    "        executed_index = []\n",
    "        i = 0\n",
    "        copylines = lines.copy()\n",
    "        copylines[idx] = changeline(copylines[idx])\n",
    "        \n",
    "        while i<len(lines):\n",
    "            if i in executed_index:\n",
    "                break\n",
    "            executed_index.append(i)\n",
    "            ops = copylines[i][:3]\n",
    "            if ops==\"acc\":\n",
    "                acc+=int(copylines[i].split(\" \")[1])\n",
    "                i+=1\n",
    "            elif ops==\"jmp\":\n",
    "                i+=int(copylines[i].split(\" \")[1])\n",
    "            else:\n",
    "                i+=1\n",
    "            \n",
    "        if i>=len(lines):\n",
    "            print(acc)\n",
    "            break"
   ]
  },
  {
   "cell_type": "code",
   "execution_count": null,
   "metadata": {
    "collapsed": true
   },
   "outputs": [],
   "source": []
  }
 ],
 "metadata": {
  "kernelspec": {
   "display_name": "Python 3",
   "language": "python",
   "name": "python3"
  },
  "language_info": {
   "codemirror_mode": {
    "name": "ipython",
    "version": 3
   },
   "file_extension": ".py",
   "mimetype": "text/x-python",
   "name": "python",
   "nbconvert_exporter": "python",
   "pygments_lexer": "ipython3",
   "version": "3.6.1"
  }
 },
 "nbformat": 4,
 "nbformat_minor": 2
}
