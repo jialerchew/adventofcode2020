{
 "cells": [
  {
   "cell_type": "code",
   "execution_count": 17,
   "metadata": {},
   "outputs": [
    {
     "name": "stdout",
     "output_type": "stream",
     "text": [
      "1010884\n",
      "1010884\n",
      "253928438\n",
      "253928438\n",
      "253928438\n",
      "253928438\n",
      "253928438\n",
      "253928438\n"
     ]
    }
   ],
   "source": [
    "file = open('input.txt','r')\n",
    "list1 = []\n",
    "list2 = []\n",
    "list3 = []\n",
    "\n",
    "while True:\n",
    "    line = file.readline()\n",
    "    \n",
    "    if not line: \n",
    "        break\n",
    "        \n",
    "    list1.append(int(line.strip()))\n",
    "    list2.append(int(line.strip()))\n",
    "    list3.append(int(line.strip()))\n",
    "                 \n",
    "for x in list1:\n",
    "    for y in list2:\n",
    "        if x+y==2020:\n",
    "            print(x*y)\n",
    "            \n",
    "for x in list1:\n",
    "    for y in list2:\n",
    "        for z in list3:\n",
    "            if x+y+z==2020:\n",
    "                print(x*y*z)\n",
    "                 "
   ]
  },
  {
   "cell_type": "code",
   "execution_count": null,
   "metadata": {
    "collapsed": true
   },
   "outputs": [],
   "source": []
  }
 ],
 "metadata": {
  "kernelspec": {
   "display_name": "Python 3",
   "language": "python",
   "name": "python3"
  },
  "language_info": {
   "codemirror_mode": {
    "name": "ipython",
    "version": 3
   },
   "file_extension": ".py",
   "mimetype": "text/x-python",
   "name": "python",
   "nbconvert_exporter": "python",
   "pygments_lexer": "ipython3",
   "version": "3.6.1"
  }
 },
 "nbformat": 4,
 "nbformat_minor": 2
}
