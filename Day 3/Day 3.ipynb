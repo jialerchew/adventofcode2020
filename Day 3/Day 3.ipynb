{
 "cells": [
  {
   "cell_type": "code",
   "execution_count": 13,
   "metadata": {},
   "outputs": [
    {
     "name": "stdout",
     "output_type": "stream",
     "text": [
      "207\n",
      "72\n",
      "90\n",
      "60\n",
      "33\n",
      "2655892800\n"
     ]
    }
   ],
   "source": [
    "with open('input.txt') as f:\n",
    "    \n",
    "    content = f.readlines()\n",
    "    content = [x.strip() for x in content]\n",
    "    \n",
    "    # Right 3 down 1\n",
    "    r3d1 = 0\n",
    "    x = 0\n",
    "    \n",
    "    for line in content:\n",
    "        if line[x] == \"#\":\n",
    "            r3d1+=1\n",
    "            \n",
    "        x+=3\n",
    "    #     Each row has 31 characters. If index more than 30(31st position), need go back front. Index 31 means 0, so minus 31.\n",
    "        if x>30:\n",
    "            x=x-31\n",
    "    \n",
    "    \n",
    "    # Right 1 down 1\n",
    "    r1d1 = 0\n",
    "    x = 0\n",
    "    \n",
    "    for line in content:\n",
    "        if line[x] == \"#\":\n",
    "            r1d1+=1\n",
    "            \n",
    "        x+=1\n",
    "    #     Each row has 31 characters. If index more than 30(31st position), need go back front. Index 31 means 0, so minus 31.\n",
    "        if x>30:\n",
    "            x=x-31\n",
    "            \n",
    "            \n",
    "    # Right 5 down 1\n",
    "    r5d1 = 0\n",
    "    x = 0\n",
    "    \n",
    "    for line in content:\n",
    "        if line[x] == \"#\":\n",
    "            r5d1+=1\n",
    "            \n",
    "        x+=5\n",
    "    #     Each row has 31 characters. If index more than 30(31st position), need go back front. Index 31 means 0, so minus 31.\n",
    "        if x>30:\n",
    "            x=x-31\n",
    "            \n",
    "            \n",
    "    # Right 7 down 1\n",
    "    r7d1 = 0\n",
    "    x = 0\n",
    "    \n",
    "    for line in content:\n",
    "        if line[x] == \"#\":\n",
    "            r7d1+=1\n",
    "            \n",
    "        x+=7\n",
    "    #     Each row has 31 characters. If index more than 30(31st position), need go back front. Index 31 means 0, so minus 31.\n",
    "        if x>30:\n",
    "            x=x-31\n",
    "            \n",
    "            \n",
    "    # Right 1 down 2\n",
    "    r1d2 = 0\n",
    "    x = 0\n",
    "    \n",
    "    for row in range(0,len(content),2):\n",
    "        if content[row][x] == \"#\":\n",
    "            r1d2+=1\n",
    "            \n",
    "        x+=1\n",
    "    #     Each row has 31 characters. If index more than 30(31st position), need go back front. Index 31 means 0, so minus 31.\n",
    "        if x>30:\n",
    "            x=x-31\n",
    "            \n",
    "print(r3d1)\n",
    "print(r1d1)\n",
    "print(r5d1)\n",
    "print(r7d1)\n",
    "print(r1d2)\n",
    "print(r3d1*r1d1*r5d1*r7d1*r1d2)"
   ]
  },
  {
   "cell_type": "code",
   "execution_count": null,
   "metadata": {
    "collapsed": true
   },
   "outputs": [],
   "source": []
  }
 ],
 "metadata": {
  "kernelspec": {
   "display_name": "Python 3",
   "language": "python",
   "name": "python3"
  },
  "language_info": {
   "codemirror_mode": {
    "name": "ipython",
    "version": 3
   },
   "file_extension": ".py",
   "mimetype": "text/x-python",
   "name": "python",
   "nbconvert_exporter": "python",
   "pygments_lexer": "ipython3",
   "version": "3.6.1"
  }
 },
 "nbformat": 4,
 "nbformat_minor": 2
}
