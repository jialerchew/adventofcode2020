{
 "cells": [
  {
   "cell_type": "code",
   "execution_count": 12,
   "metadata": {},
   "outputs": [
    {
     "name": "stdout",
     "output_type": "stream",
     "text": [
      "622\n"
     ]
    },
    {
     "data": {
      "text/plain": [
       "<function TextIOWrapper.close>"
      ]
     },
     "execution_count": 12,
     "metadata": {},
     "output_type": "execute_result"
    }
   ],
   "source": [
    "count = 0\n",
    "\n",
    "file = open('input.txt','r')\n",
    "\n",
    "while True:\n",
    "    line = file.readline()\n",
    "    \n",
    "    if not line: \n",
    "        break\n",
    "    \n",
    "    split = line.strip().split(\" \")\n",
    "    \n",
    "    minmaxsplit = split[0].split(\"-\")\n",
    "    \n",
    "    if(len(minmaxsplit)==2):\n",
    "        min = int(minmaxsplit[0])\n",
    "        max = int(minmaxsplit[1])\n",
    "        restrict = split[1][:-1]\n",
    "        text = split[2]\n",
    "        \n",
    "        appearcount = text.count(restrict)\n",
    "        \n",
    "        if appearcount <= max and appearcount >= min:\n",
    "            count+=1\n",
    "        \n",
    "    else:\n",
    "        print(\"MINMAX LENGTH IS NOT 2\")\n",
    "        break\n",
    "\n",
    "print(count)\n",
    "\n",
    "file.close"
   ]
  },
  {
   "cell_type": "code",
   "execution_count": 16,
   "metadata": {},
   "outputs": [
    {
     "name": "stdout",
     "output_type": "stream",
     "text": [
      "263\n"
     ]
    },
    {
     "data": {
      "text/plain": [
       "<function TextIOWrapper.close>"
      ]
     },
     "execution_count": 16,
     "metadata": {},
     "output_type": "execute_result"
    }
   ],
   "source": [
    "count = 0\n",
    "\n",
    "file = open('input.txt','r')\n",
    "\n",
    "while True:\n",
    "    line = file.readline()\n",
    "    \n",
    "    if not line: \n",
    "        break\n",
    "    \n",
    "    split = line.strip().split(\" \")\n",
    "    \n",
    "    positionsplit = split[0].split(\"-\")\n",
    "    \n",
    "    if(len(positionsplit)==2):\n",
    "        pos1 = int(positionsplit[0])\n",
    "        pos2 = int(positionsplit[1])\n",
    "        restrict = split[1][:-1]\n",
    "        text = split[2]\n",
    "        \n",
    "        if len(text) < pos2:\n",
    "            print(\"TEXT LENGTH SHORTER THAN POSITION\")\n",
    "            break\n",
    "        else:\n",
    "            if sum([text[pos1-1]==restrict,text[pos2-1]==restrict])==1:\n",
    "                count+=1\n",
    "        \n",
    "    else:\n",
    "        print(\"MINMAX LENGTH IS NOT 2\")\n",
    "        break\n",
    "\n",
    "print(count)\n",
    "\n",
    "file.close"
   ]
  },
  {
   "cell_type": "code",
   "execution_count": null,
   "metadata": {
    "collapsed": true
   },
   "outputs": [],
   "source": []
  }
 ],
 "metadata": {
  "kernelspec": {
   "display_name": "Python 3",
   "language": "python",
   "name": "python3"
  },
  "language_info": {
   "codemirror_mode": {
    "name": "ipython",
    "version": 3
   },
   "file_extension": ".py",
   "mimetype": "text/x-python",
   "name": "python",
   "nbconvert_exporter": "python",
   "pygments_lexer": "ipython3",
   "version": "3.6.1"
  }
 },
 "nbformat": 4,
 "nbformat_minor": 2
}
