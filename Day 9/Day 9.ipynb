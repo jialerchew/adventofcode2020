{
 "cells": [
  {
   "cell_type": "code",
   "execution_count": 12,
   "metadata": {},
   "outputs": [
    {
     "name": "stdout",
     "output_type": "stream",
     "text": [
      "31161678\n",
      "5453868\n"
     ]
    }
   ],
   "source": [
    "with open('input.txt') as f:\n",
    "    \n",
    "    lines = f.readlines()\n",
    "    lines = [int(l.strip()) for l in lines]\n",
    "    \n",
    "    found = True\n",
    "    i = 25\n",
    "    while found and i<len(lines):\n",
    "        preamble = lines[i-25:i]\n",
    "        target = lines[i]\n",
    "        i+=1\n",
    "        canBreak = False\n",
    "        for idx, a in enumerate(preamble):\n",
    "            for b in preamble[idx+1:]:\n",
    "                if a+b==target:\n",
    "                    found = True\n",
    "                    canBreak = True\n",
    "                    break\n",
    "            if canBreak:\n",
    "                break\n",
    "            else:\n",
    "                found = False\n",
    "    \n",
    "    # Part 1 answer\n",
    "    print(lines[i-1])   \n",
    "    invalid_num = lines[i-1]\n",
    "    \n",
    "    for idx, a in enumerate(lines):\n",
    "        sum = a\n",
    "        for idx2, b in enumerate(lines[idx+1:]):\n",
    "            sum+=b\n",
    "            if sum==invalid_num:\n",
    "                contiguous_set = lines[idx:idx+idx2+1]\n",
    "                answer = min(contiguous_set) + max(contiguous_set)\n",
    "                # Part 2 answer\n",
    "                print(answer)"
   ]
  },
  {
   "cell_type": "code",
   "execution_count": null,
   "metadata": {
    "collapsed": true
   },
   "outputs": [],
   "source": []
  }
 ],
 "metadata": {
  "kernelspec": {
   "display_name": "Python 3",
   "language": "python",
   "name": "python3"
  },
  "language_info": {
   "codemirror_mode": {
    "name": "ipython",
    "version": 3
   },
   "file_extension": ".py",
   "mimetype": "text/x-python",
   "name": "python",
   "nbconvert_exporter": "python",
   "pygments_lexer": "ipython3",
   "version": "3.6.1"
  }
 },
 "nbformat": 4,
 "nbformat_minor": 2
}
