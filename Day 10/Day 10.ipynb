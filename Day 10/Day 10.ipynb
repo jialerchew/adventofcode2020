{
 "cells": [
  {
   "cell_type": "code",
   "execution_count": 7,
   "metadata": {},
   "outputs": [
    {
     "name": "stdout",
     "output_type": "stream",
     "text": [
      "2059\n"
     ]
    }
   ],
   "source": [
    "with open('input.txt') as f:\n",
    "    \n",
    "    lines = f.readlines()\n",
    "    adapters = [int(l.strip()) for l in lines]\n",
    "    adapters.append(0)\n",
    "    adapters.sort()\n",
    "    adapters.append(adapters[-1]+3)\n",
    "    \n",
    "    diffdict = {1:0,2:0,3:0}\n",
    "            \n",
    "    for idx in range(1,len(adapters)):\n",
    "        diffdict[adapters[idx]-adapters[idx-1]]+=1\n",
    "    \n",
    "    # Part 1 answer\n",
    "    print(diffdict[1]*diffdict[3])\n",
    "    \n",
    "    "
   ]
  },
  {
   "cell_type": "code",
   "execution_count": 10,
   "metadata": {},
   "outputs": [
    {
     "name": "stdout",
     "output_type": "stream",
     "text": [
      "[0, 1, 2, 3, 4, 7, 10, 11, 12, 13, 14, 17, 18, 19, 20, 23, 24, 25, 26, 27, 30, 31, 32, 33, 34, 37, 38, 39, 42, 43, 46, 49, 50, 51, 52, 53, 56, 57, 58, 59, 60, 63, 64, 65, 66, 67, 70, 71, 72, 73, 74, 77, 78, 79, 80, 81, 84, 87, 88, 91, 92, 93, 94, 95, 98, 101, 102, 105, 106, 107, 108, 109, 112, 115, 116, 117, 118, 119, 122, 125, 128, 129, 130, 131, 134, 135, 136, 139, 140, 141, 144, 145, 146, 147, 148, 151, 152, 153, 154, 155, 158]\n",
      "86812553324672\n"
     ]
    }
   ],
   "source": [
    "print(adapters)\n",
    "\n",
    "# I gave up on Part 2, answers obtained from\n",
    "# https://www.reddit.com/r/adventofcode/comments/ka8z8x/2020_day_10_solutions/\n",
    "\n",
    "size = len(adapters)\n",
    "\n",
    "combos_up_to_index = [1] * size\n",
    "for i in range(1, size):\n",
    "    combos_up_to_index[i] = combos_up_to_index[i - 1]\n",
    "    if i > 1 and adapters[i] - adapters[i-2] <= 3:\n",
    "        combos_up_to_index[i] += combos_up_to_index[i-2]\n",
    "    if i > 2 and adapters[i] - adapters[i-3] <= 3:\n",
    "        combos_up_to_index[i] += combos_up_to_index[i-3]\n",
    "\n",
    "print(combos_up_to_index[-1])"
   ]
  },
  {
   "cell_type": "code",
   "execution_count": null,
   "metadata": {
    "collapsed": true
   },
   "outputs": [],
   "source": [
    "1 1 2"
   ]
  }
 ],
 "metadata": {
  "kernelspec": {
   "display_name": "Python 3",
   "language": "python",
   "name": "python3"
  },
  "language_info": {
   "codemirror_mode": {
    "name": "ipython",
    "version": 3
   },
   "file_extension": ".py",
   "mimetype": "text/x-python",
   "name": "python",
   "nbconvert_exporter": "python",
   "pygments_lexer": "ipython3",
   "version": "3.6.1"
  }
 },
 "nbformat": 4,
 "nbformat_minor": 2
}
